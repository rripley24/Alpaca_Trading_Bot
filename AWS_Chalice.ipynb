{
 "cells": [
  {
   "cell_type": "markdown",
   "metadata": {},
   "source": [
    "# Creating ``Chalice``\n",
    "***Follow this [link](https://aws.github.io/chalice/quickstart.html) for an easy instulation guide***"
   ]
  },
  {
   "cell_type": "markdown",
   "metadata": {},
   "source": [
    "* Open a terminal, or perfered user-interface\n",
    "* Verify that chalice is installed"
   ]
  },
  {
   "cell_type": "code",
   "execution_count": 11,
   "metadata": {},
   "outputs": [
    {
     "name": "stdout",
     "output_type": "stream",
     "text": [
      "chalice 1.21.4, python 3.8.3, windows 10\n"
     ]
    }
   ],
   "source": [
    "!chalice --version"
   ]
  },
  {
   "cell_type": "markdown",
   "metadata": {},
   "source": [
    "* Use the command **``mkdir .aws``** to make a directory to store AWS keys"
   ]
  },
  {
   "cell_type": "code",
   "execution_count": 12,
   "metadata": {},
   "outputs": [
    {
     "name": "stderr",
     "output_type": "stream",
     "text": [
      "A subdirectory or file .aws already exists.\n"
     ]
    }
   ],
   "source": [
    "!mkdir .aws"
   ]
  },
  {
   "cell_type": "markdown",
   "metadata": {},
   "source": [
    "* Use the **``touch .aws/config``** to create a document inside of the **``.aws``** file"
   ]
  },
  {
   "cell_type": "code",
   "execution_count": 13,
   "metadata": {},
   "outputs": [],
   "source": [
    "!touch .aws/config"
   ]
  },
  {
   "cell_type": "markdown",
   "metadata": {},
   "source": [
    "* Launch the **``config``** file with your perfered user-inter face\n",
    "* Store your keys in the file like so\n",
    "    * **``aws_access_key_id=\"PUBLIC_KEY\"``**\n",
    "    * **``aws_secret_access_key=\"SECRET_KEY\"``**\n",
    "    * **``region=SET_REGION``**"
   ]
  },
  {
   "cell_type": "markdown",
   "metadata": {},
   "source": [
    "* Create a new directory \n",
    "    * ``mkdir \"Name of directory\"``<br>\n",
    "(optional, used for organization)"
   ]
  },
  {
   "cell_type": "code",
   "execution_count": 14,
   "metadata": {},
   "outputs": [
    {
     "name": "stderr",
     "output_type": "stream",
     "text": [
      "A subdirectory or file running_chalice already exists.\n"
     ]
    }
   ],
   "source": [
    "!mkdir running_chalice"
   ]
  },
  {
   "cell_type": "markdown",
   "metadata": {},
   "source": [
    "* ``cd`` into the new directory"
   ]
  },
  {
   "cell_type": "code",
   "execution_count": 15,
   "metadata": {},
   "outputs": [],
   "source": [
    "!cd running_chalice"
   ]
  },
  {
   "cell_type": "markdown",
   "metadata": {},
   "source": [
    "* Use the chalice command to create a new project\n",
    "    * **``chalice new-project \"NAME_OF_PROJECT\"``**"
   ]
  },
  {
   "cell_type": "code",
   "execution_count": 16,
   "metadata": {},
   "outputs": [
    {
     "name": "stderr",
     "output_type": "stream",
     "text": [
      "Directory already exists: Algo_trade\n",
      "Aborted!\n"
     ]
    }
   ],
   "source": [
    "!chalice new-project Algo_trade"
   ]
  },
  {
   "cell_type": "markdown",
   "metadata": {},
   "source": [
    "* ``cd`` into the new project\n",
    "* Locate the **``app.py``** and launch it with perfered user-interface    "
   ]
  },
  {
   "cell_type": "markdown",
   "metadata": {},
   "source": [
    "---\n",
    "# Connecting Alpaca"
   ]
  },
  {
   "cell_type": "markdown",
   "metadata": {},
   "source": [
    "***Using the ``app.py`` file launched above we are going to connect to Alpaca***<br>\n",
    "***Start by importing the modules and libraries need***"
   ]
  },
  {
   "cell_type": "code",
   "execution_count": 17,
   "metadata": {},
   "outputs": [],
   "source": [
    "from chalice import Chalice\n",
    "import requests, json"
   ]
  },
  {
   "cell_type": "markdown",
   "metadata": {},
   "source": [
    "* Create the headers Alpaca/Chalice needs "
   ]
  },
  {
   "cell_type": "code",
   "execution_count": 18,
   "metadata": {},
   "outputs": [],
   "source": [
    "app = Chalice(app_name='YOUR_PROJECT_NAME')\n",
    "API_KEY=\"YOUR_PUBLIC_ALPACA_KEY\"\n",
    "SECRET_KEY=\"YOUR_SECRET_ALPACA_KEY\"\n",
    "BASE_URL = \"https://paper-api.alpaca.markets\"\n",
    "ORDERS_URL = \"{}/v2/orders\".format(BASE_URL)\n",
    "HEADERS = {'APCA-API-KEY-ID': API_KEY, 'APCA-API-SECRET-KEY': SECRET_KEY}"
   ]
  },
  {
   "cell_type": "markdown",
   "metadata": {},
   "source": [
    "* Creating the braket order to sit on the resting URL"
   ]
  },
  {
   "cell_type": "code",
   "execution_count": 19,
   "metadata": {},
   "outputs": [],
   "source": [
    "@app.route('/buy_stock', methods=['POST'])\n",
    "# ^^^Naming the URL^^^\n",
    "\n",
    "def buy_stock(): \n",
    "# ^^^Creating the function\n",
    "\n",
    "    request = app.current_request \n",
    "# ^^^Receving the information about the request^^^\n",
    "    \n",
    "    webhook_message = request.json_body \n",
    "# ^^^The json request being sent in (in our case from TRADING_VIEW)^^^\n",
    "    \n",
    "    data = { \n",
    "        \"symbol\": webhook_message[\"ticker\"], \n",
    "#    ^^^ticker symbol that alert sends us^^^\n",
    "        \"qty\": 1, \n",
    "#   ^^^number of shares^^^\n",
    "        \"side\": \"buy\", \n",
    "#    ^^^buying the stock^^^\n",
    "        \"type\": \"limit\", \n",
    "#  ^^^setting limit order^^^\n",
    "        \"limit_price\":webhook_message[\"close\"], \n",
    "#       ^^^setting buying price^^^\n",
    "        \"time_in_force\": \"gtc\", \n",
    "#        ^^^Length of order^^^\n",
    "        \"order_class\": \"bracket\", \n",
    "#         ^^^type of order^^^\n",
    "        \"take_profit\": {\n",
    "            \"limit_price\": webhook_message[\"close\"] * 1.05}, \n",
    "#             ^^^Setting profit taking^^^\n",
    "        \"stop_loss\": {\n",
    "            \"stop_price\": webhook_message[\"close\"] * 0.98,} \n",
    "#             ^^^Setting stop loss^^^\n",
    "    }\n",
    " \n",
    "    r = requests.post(ORDERS_URL, json=data, headers=HEADERS) \n",
    "#         ^^^Sending Request^^^\n",
    "\n",
    "    response = json.loads(r.content) \n",
    "#    ^^^Recieving Request Response^^^\n",
    "    print(response)\n",
    "    print(response.content)\n",
    "\n",
    "    return {\n",
    "        'message':'I bought the stock', \n",
    "#   ^^^Returning personal message (Optional)^^^\n",
    "\n",
    "        'webhook': webhook_message \n",
    "#   ^^^Returning the json message (Optional)^^^\n",
    "    }"
   ]
  },
  {
   "cell_type": "markdown",
   "metadata": {},
   "source": [
    "### <U>**Your final ``app.py`` file should look like this**</U><br>\n",
    "![app.py](Images/app.png)"
   ]
  },
  {
   "cell_type": "markdown",
   "metadata": {},
   "source": [
    "* Save the **``app.py``** file \n",
    "* In the terminal deploy the chalie\n",
    "    * ``chalice deploy``\n",
    "* Coppy the \"Rest\" URL provided<br>\n",
    "![URL](Images/chalice_deploy.png)"
   ]
  },
  {
   "cell_type": "markdown",
   "metadata": {},
   "source": [
    "# ***Creating Alerts and adding the weebhook with ``trading_view``***"
   ]
  }
 ],
 "metadata": {
  "kernelspec": {
   "display_name": "Python 3",
   "language": "python",
   "name": "python3"
  },
  "language_info": {
   "codemirror_mode": {
    "name": "ipython",
    "version": 3
   },
   "file_extension": ".py",
   "mimetype": "text/x-python",
   "name": "python",
   "nbconvert_exporter": "python",
   "pygments_lexer": "ipython3",
   "version": "3.8.3"
  }
 },
 "nbformat": 4,
 "nbformat_minor": 4
}
